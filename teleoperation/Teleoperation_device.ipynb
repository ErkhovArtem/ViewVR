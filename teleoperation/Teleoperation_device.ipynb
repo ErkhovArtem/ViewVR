{
 "cells": [
  {
   "cell_type": "code",
   "execution_count": 1,
   "id": "3c6f26d1-11e9-44ba-85e2-61bb78ce282c",
   "metadata": {},
   "outputs": [
    {
     "name": "stdout",
     "output_type": "stream",
     "text": [
      "2024-10-24 15:37:10.871962\n"
     ]
    }
   ],
   "source": [
    "import time\n",
    "from time import sleep\n",
    "import struct\n",
    "import serial\n",
    "from serial import Serial\n",
    "from serial.tools.list_ports import comports\n",
    "from datetime import datetime\n",
    "print(datetime.now())\n",
    "\n",
    "import pose_openvr_wrapper\n",
    "import numpy as np\n",
    "import rtde_control\n",
    "import rtde_receive\n",
    "from numpy.linalg import norm\n",
    "from scipy.spatial.transform import Rotation as R\n",
    "from pyrr import quaternion as qv\n",
    "import robotiq_gripper\n",
    "import copy"
   ]
  },
  {
   "cell_type": "code",
   "execution_count": 2,
   "id": "a640a237",
   "metadata": {},
   "outputs": [
    {
     "name": "stdout",
     "output_type": "stream",
     "text": [
      "COM3 - Silicon Labs CP210x USB to UART Bridge (COM3)\n"
     ]
    }
   ],
   "source": [
    "for port in comports():\n",
    "    print(port)"
   ]
  },
  {
   "cell_type": "code",
   "execution_count": 3,
   "id": "93d62758",
   "metadata": {},
   "outputs": [
    {
     "data": {
      "text/plain": [
       "True"
      ]
     },
     "execution_count": 3,
     "metadata": {},
     "output_type": "execute_result"
    }
   ],
   "source": [
    "# Для маятника\n",
    "port = Serial(\"COM3\", 230400, timeout=1)\n",
    "port.isOpen()"
   ]
  },
  {
   "cell_type": "code",
   "execution_count": 4,
   "id": "b3db52a6",
   "metadata": {},
   "outputs": [
    {
     "name": "stdout",
     "output_type": "stream",
     "text": [
      "{'tracker_0': {'name': 'tracker_0', 'type': 'tracker', 'serial': 'LHR-B6119ABB', 'index': 4}}\n"
     ]
    }
   ],
   "source": [
    "pyopenvr_wrapper = pose_openvr_wrapper.OpenvrWrapper('config.json')\n",
    "print(pyopenvr_wrapper.devices)\n",
    "\n",
    "rtde_r = rtde_receive.RTDEReceiveInterface(\"192.168.1.110\")\n",
    "rtde_c = rtde_control.RTDEControlInterface(\"192.168.1.110\")\n",
    "\n",
    "gripper = robotiq_gripper.RobotiqGripper()\n",
    "gripper.connect(\"192.168.1.110\", 63352)\n",
    "if not gripper.is_active():\n",
    "    gripper.activate()"
   ]
  },
  {
   "cell_type": "markdown",
   "id": "22918444",
   "metadata": {},
   "source": [
    "## Teleoperation"
   ]
  },
  {
   "cell_type": "markdown",
   "id": "7a7137b7",
   "metadata": {},
   "source": [
    "### Functions"
   ]
  },
  {
   "cell_type": "code",
   "execution_count": 5,
   "id": "33a152f7",
   "metadata": {},
   "outputs": [],
   "source": [
    "velocity = 0.5\n",
    "acceleration = 0.5\n",
    "dt = 1.0/500  # 2ms\n",
    "lookahead_time = 0.2\n",
    "gain = 100"
   ]
  },
  {
   "cell_type": "code",
   "execution_count": 6,
   "id": "fec07e6c",
   "metadata": {},
   "outputs": [],
   "source": [
    "# Joint limits\n",
    "# Elbow = 0.5 2.0\n",
    "# Wrist1 = -0.7 0.8 \n",
    "# Wrist2 = 0.8 2.5\n",
    "# Wrist3 = 504.4 507.4"
   ]
  },
  {
   "cell_type": "code",
   "execution_count": 7,
   "id": "78ba4716",
   "metadata": {},
   "outputs": [],
   "source": [
    "def isInJointLimits(q):\n",
    "    if q[2]<0.2 or q[2]>2.0:\n",
    "        return False\n",
    "    if q[3]<-0.7 or q[3]>1.4:\n",
    "        return False\n",
    "    if q[4]< 0.0 or q[4]> 2.5:\n",
    "        return False\n",
    "    if q[5]< 506.5 or q[5]> 511.5:\n",
    "        return False\n",
    "    return True\n",
    "\n",
    "def filter(hand, old_hand, pos_tol = 0.01, angle_tol = 0.02):\n",
    "    pos_vec = np.zeros(3)\n",
    "    pos_vec[0] = hand['x'][0] - old_hand['x'][0]\n",
    "    pos_vec[1] = hand['z'][0] - old_hand['z'][0]\n",
    "    pos_vec[2] = hand['y'][0] - old_hand['y'][0]\n",
    "\n",
    "    if norm(pos_vec) > pos_tol:\n",
    "        return False\n",
    "    \n",
    "    q = [hand[axis][0] for axis in ['r_x', 'r_y', 'r_z', 'r_w']]\n",
    "    q_old = [old_hand[axis][0] for axis in ['r_x', 'r_y', 'r_z', 'r_w']]\n",
    "    dif = [a - b for a,b in zip(q, q_old)]\n",
    "    if norm(dif) > angle_tol:\n",
    "        return False\n",
    "\n",
    "    return True\n",
    "    \n",
    "def quaternion_multiply(quaternion1, quaternion0, reverse = False):\n",
    "    if reverse:\n",
    "        x0, y0, z0, w0 = quaternion0\n",
    "        x1, y1, z1, w1 = quaternion1\n",
    "    else:\n",
    "        w0, x0, y0, z0 = quaternion0\n",
    "        w1, x1, y1, z1 = quaternion1\n",
    "\n",
    "    return np.array([-x1 * x0 - y1 * y0 - z1 * z0 + w1 * w0,\n",
    "                     x1 * w0 + y1 * z0 - z1 * y0 + w1 * x0,\n",
    "                     -x1 * z0 + y1 * w0 + z1 * x0 + w1 * y0,\n",
    "                     x1 * y0 - y1 * x0 + z1 * w0 + w1 * z0], dtype=np.float64)\n",
    "\n",
    "def hand_to_ur(hand, base_hand, base_robot, sens = 1.0):\n",
    "    ur = np.zeros(6)\n",
    "    vec = np.array([0., 0., 0.0819])\n",
    "\n",
    "    # position\n",
    "    ur[0] = base_robot[0] - (hand['x'][0] - base_hand['x'][0])/sens\n",
    "    ur[1] = base_robot[1] + (hand['z'][0] - base_hand['z'][0])/sens\n",
    "    ur[2] = base_robot[2] + (hand['y'][0] - base_hand['y'][0])/sens\n",
    "    \n",
    "    # orientation\n",
    "    qh0 = [base_hand[axis][0] for axis in ['r_x', 'r_y', 'r_z', 'r_w']]\n",
    "    q = [hand[axis][0] for axis in ['r_x', 'r_y', 'r_z', 'r_w']]\n",
    "    q_inv = qv.inverse(q)\n",
    "    qh = quaternion_multiply(q_inv, qh0, reverse = True)\n",
    "\n",
    "    qh_init = copy.deepcopy(qh)\n",
    "    qh[2] = -qh_init[3]\n",
    "    qh[1] = qh_init[2]\n",
    "    qh[3] = qh_init[1]\n",
    "    qh[0] = -qh_init[0]\n",
    "\n",
    "    rot = R.from_rotvec(base_robot[3:6])\n",
    "    qr0 = rot.as_quat()\n",
    "    qr = quaternion_multiply(qh, qr0)\n",
    "\n",
    "    ur[3:6] = R.from_quat(qr).as_rotvec()\n",
    "\n",
    "    # positional offset\n",
    "    rot2 = R.from_quat(qr)\n",
    "    base_vec = rot.apply(vec)\n",
    "    new_vec = rot2.apply(vec)\n",
    "    dif = new_vec - base_vec\n",
    "    ur[0:3] += dif\n",
    "    \n",
    "    return ur"
   ]
  },
  {
   "cell_type": "code",
   "execution_count": 8,
   "id": "401cf963",
   "metadata": {},
   "outputs": [],
   "source": [
    "def crc32mpeg2(data):\n",
    "    crc = 0xFFFFFFFF\n",
    "    for byte in data:\n",
    "        crc ^= byte << 24\n",
    "        for _ in range(8):\n",
    "            if crc & 0x80000000:\n",
    "                crc = (crc << 1) ^ 0x04C11DB7\n",
    "            else:\n",
    "                crc <<= 1\n",
    "            crc &= 0xFFFFFFFF\n",
    "    return crc\n",
    "\n",
    "def read_pose():\n",
    "    flag_message_error = False\n",
    "    package = bytearray(b\"i\")\n",
    "    port.flushInput()\n",
    "    port.write(package)\n",
    "    # Получаем данные из порта\n",
    "    data = port.read(8)\n",
    "    # Проверяем, что данные получены и их размер равен 8 байт\n",
    "    if data and len(data) == 8:\n",
    "        teleop_position = np.frombuffer(data[:4], dtype=np.uint32)[0]\n",
    "        CRC_STM = np.frombuffer(data[4:], dtype=np.uint32)[0]\n",
    "        # high-endian это очень важно (!)\n",
    "        bytes_for_crc = bytearray(struct.pack(\">I\", teleop_position))\n",
    "        crc32_python = crc32mpeg2(bytes_for_crc)\n",
    "        if crc32_python != CRC_STM:\n",
    "            flag_message_error = True\n",
    "        else:\n",
    "            teleop_position = round(teleop_position / 3)\n",
    "            if teleop_position >= 255:\n",
    "                teleop_position=254\n",
    "            if teleop_position == 33:\n",
    "                teleop_position=0\n",
    "            return teleop_position\n",
    "    else:\n",
    "        flag_message_error = True\n",
    "        teleop_position=0\n",
    "        return teleop_position"
   ]
  },
  {
   "cell_type": "markdown",
   "id": "b5bd0001",
   "metadata": {},
   "source": [
    "### Start"
   ]
  },
  {
   "cell_type": "code",
   "execution_count": 12,
   "id": "d3403980",
   "metadata": {},
   "outputs": [
    {
     "data": {
      "text/plain": [
       "True"
      ]
     },
     "execution_count": 12,
     "metadata": {},
     "output_type": "execute_result"
    },
    {
     "ename": "",
     "evalue": "",
     "output_type": "error",
     "traceback": [
      "\u001b[1;31mThe Kernel crashed while executing code in the current cell or a previous cell. \n",
      "\u001b[1;31mPlease review the code in the cell(s) to identify a possible cause of the failure. \n",
      "\u001b[1;31mClick <a href='https://aka.ms/vscodeJupyterKernelCrash'>here</a> for more info. \n",
      "\u001b[1;31mView Jupyter <a href='command:jupyter.viewOutput'>log</a> for further details."
     ]
    }
   ],
   "source": [
    "# Base pose\n",
    "rtde_c.servoJ([1.7286394834518433,\n",
    " -1.5598433653460901,\n",
    " 1.5497121810913086,\n",
    " 0.05845451354980469,\n",
    " 1.6997259855270386,\n",
    " 508.9877680103683], velocity, acceleration, dt, lookahead_time, gain)"
   ]
  },
  {
   "cell_type": "code",
   "execution_count": 10,
   "id": "ded74f8c",
   "metadata": {},
   "outputs": [
    {
     "name": "stdout",
     "output_type": "stream",
     "text": [
      "{'time': [0.0], 'x': [0.5255894660949707], 'y': [1.2190396785736084], 'z': [0.31392526626586914], 'r_x': [0.5998512969784721], 'r_y': [0.18723424143872103], 'r_z': [-0.2796167853764243], 'r_w': [0.7259036353107409], 'roll': [74.65510774794413], 'pitch': [37.39345537822029], 'yaw': [-13.192832606409223], 'matrix': [array([[ 0.77351534,  0.63057506, -0.06362896,  0.52558947],\n",
      "       [-0.1813243 ,  0.12398575, -0.9755761 ,  1.21903968],\n",
      "       [-0.60728502,  0.76616085,  0.21024325,  0.31392527],\n",
      "       [ 0.        ,  0.        ,  0.        ,  1.        ]])]}\n",
      "[0.1455136087790952, -0.27437987620450827, 0.3090733704548076, 1.618471882450375, -0.011796131454891333, 0.05319128094562374]\n"
     ]
    }
   ],
   "source": [
    "base_hand = pyopenvr_wrapper.sample('tracker_0', samples_count=1)\n",
    "base_robot = rtde_r.getActualTCPPose()\n",
    "print(base_hand)\n",
    "print(base_robot)"
   ]
  },
  {
   "cell_type": "code",
   "execution_count": 11,
   "id": "54c51a17",
   "metadata": {},
   "outputs": [
    {
     "ename": "KeyboardInterrupt",
     "evalue": "",
     "output_type": "error",
     "traceback": [
      "\u001b[1;31m---------------------------------------------------------------------------\u001b[0m",
      "\u001b[1;31mKeyboardInterrupt\u001b[0m                         Traceback (most recent call last)",
      "Cell \u001b[1;32mIn[11], line 10\u001b[0m\n\u001b[0;32m      7\u001b[0m \u001b[38;5;66;03m# if filter(hand, old_hand):\u001b[39;00m\n\u001b[0;32m      8\u001b[0m \u001b[38;5;66;03m#     old_hand = hand.copy() \u001b[39;00m\n\u001b[0;32m      9\u001b[0m ur_pose \u001b[38;5;241m=\u001b[39m hand_to_ur(hand, base_hand, base_robot)\n\u001b[1;32m---> 10\u001b[0m \u001b[38;5;28;01mif\u001b[39;00m \u001b[43mrtde_c\u001b[49m\u001b[38;5;241;43m.\u001b[39;49m\u001b[43misPoseWithinSafetyLimits\u001b[49m\u001b[43m(\u001b[49m\u001b[43mur_pose\u001b[49m\u001b[43m)\u001b[49m:\n\u001b[0;32m     11\u001b[0m     q \u001b[38;5;241m=\u001b[39m rtde_c\u001b[38;5;241m.\u001b[39mgetInverseKinematics(ur_pose)\n\u001b[0;32m     12\u001b[0m     \u001b[38;5;66;03m# print(q)\u001b[39;00m\n",
      "\u001b[1;31mKeyboardInterrupt\u001b[0m: "
     ]
    }
   ],
   "source": [
    "# old_hand = pyopenvr_wrapper.sample('tracker_0', samples_count=1)\n",
    "base_hand = pyopenvr_wrapper.sample('tracker_0', samples_count=1)\n",
    "base_robot = rtde_r.getActualTCPPose()\n",
    "\n",
    "while(1):\n",
    "    hand = pyopenvr_wrapper.sample('tracker_0', samples_count=1)\n",
    "    # if filter(hand, old_hand):\n",
    "    #     old_hand = hand.copy() \n",
    "    ur_pose = hand_to_ur(hand, base_hand, base_robot)\n",
    "    if rtde_c.isPoseWithinSafetyLimits(ur_pose):\n",
    "        q = rtde_c.getInverseKinematics(ur_pose)\n",
    "        # print(q)\n",
    "        if isInJointLimits(q):\n",
    "            rtde_c.servoJ(q, velocity, acceleration, dt, lookahead_time, gain)\n",
    "        \n",
    "    # print('Has solution: ', rtde_c.getInverseKinematicsHasSolution(ur_pose, rtde_r.getActualQ()))\n",
    "    # print(ur_pose[3:6])\n",
    "\n",
    "    pos = read_pose()\n",
    "    if (pos < gripper._max_position - 30) and (pos > gripper._min_position + 30):\n",
    "        gripper.move(pos, 100, 10)\n",
    "        time.sleep(0.01)\n",
    "    # time.sleep(0.002)"
   ]
  },
  {
   "cell_type": "code",
   "execution_count": 17,
   "id": "ebca3d72",
   "metadata": {},
   "outputs": [
    {
     "ename": "KeyboardInterrupt",
     "evalue": "",
     "output_type": "error",
     "traceback": [
      "\u001b[1;31m---------------------------------------------------------------------------\u001b[0m",
      "\u001b[1;31mKeyboardInterrupt\u001b[0m                         Traceback (most recent call last)",
      "Cell \u001b[1;32mIn[17], line 4\u001b[0m\n\u001b[0;32m      2\u001b[0m pos \u001b[38;5;241m=\u001b[39m read_pose()\n\u001b[0;32m      3\u001b[0m \u001b[38;5;28;01mif\u001b[39;00m (pos \u001b[38;5;241m<\u001b[39m gripper\u001b[38;5;241m.\u001b[39m_max_position \u001b[38;5;241m-\u001b[39m \u001b[38;5;241m30\u001b[39m) \u001b[38;5;129;01mand\u001b[39;00m (pos \u001b[38;5;241m>\u001b[39m gripper\u001b[38;5;241m.\u001b[39m_min_position \u001b[38;5;241m+\u001b[39m \u001b[38;5;241m30\u001b[39m):\n\u001b[1;32m----> 4\u001b[0m     \u001b[43mgripper\u001b[49m\u001b[38;5;241;43m.\u001b[39;49m\u001b[43mmove\u001b[49m\u001b[43m(\u001b[49m\u001b[43mpos\u001b[49m\u001b[43m,\u001b[49m\u001b[43m \u001b[49m\u001b[38;5;241;43m100\u001b[39;49m\u001b[43m,\u001b[49m\u001b[43m \u001b[49m\u001b[38;5;241;43m10\u001b[39;49m\u001b[43m)\u001b[49m\n\u001b[0;32m      5\u001b[0m     time\u001b[38;5;241m.\u001b[39msleep(\u001b[38;5;241m0.01\u001b[39m)\n",
      "File \u001b[1;32mc:\\Users\\ErkhovAA\\Desktop\\VR scripts\\robotiq_gripper.py:263\u001b[0m, in \u001b[0;36mRobotiqGripper.move\u001b[1;34m(self, position, speed, force)\u001b[0m\n\u001b[0;32m    261\u001b[0m \u001b[38;5;66;03m# moves to the given position with the given speed and force\u001b[39;00m\n\u001b[0;32m    262\u001b[0m var_dict \u001b[38;5;241m=\u001b[39m OrderedDict([(\u001b[38;5;28mself\u001b[39m\u001b[38;5;241m.\u001b[39mPOS, clip_pos), (\u001b[38;5;28mself\u001b[39m\u001b[38;5;241m.\u001b[39mSPE, clip_spe), (\u001b[38;5;28mself\u001b[39m\u001b[38;5;241m.\u001b[39mFOR, clip_for), (\u001b[38;5;28mself\u001b[39m\u001b[38;5;241m.\u001b[39mGTO, \u001b[38;5;241m1\u001b[39m)])\n\u001b[1;32m--> 263\u001b[0m \u001b[38;5;28;01mreturn\u001b[39;00m \u001b[38;5;28;43mself\u001b[39;49m\u001b[38;5;241;43m.\u001b[39;49m\u001b[43m_set_vars\u001b[49m\u001b[43m(\u001b[49m\u001b[43mvar_dict\u001b[49m\u001b[43m)\u001b[49m, clip_pos\n",
      "File \u001b[1;32mc:\\Users\\ErkhovAA\\Desktop\\VR scripts\\robotiq_gripper.py:82\u001b[0m, in \u001b[0;36mRobotiqGripper._set_vars\u001b[1;34m(self, var_dict)\u001b[0m\n\u001b[0;32m     80\u001b[0m \u001b[38;5;28;01mwith\u001b[39;00m \u001b[38;5;28mself\u001b[39m\u001b[38;5;241m.\u001b[39mcommand_lock:\n\u001b[0;32m     81\u001b[0m     \u001b[38;5;28mself\u001b[39m\u001b[38;5;241m.\u001b[39msocket\u001b[38;5;241m.\u001b[39msendall(cmd\u001b[38;5;241m.\u001b[39mencode(\u001b[38;5;28mself\u001b[39m\u001b[38;5;241m.\u001b[39mENCODING))\n\u001b[1;32m---> 82\u001b[0m     data \u001b[38;5;241m=\u001b[39m \u001b[38;5;28;43mself\u001b[39;49m\u001b[38;5;241;43m.\u001b[39;49m\u001b[43msocket\u001b[49m\u001b[38;5;241;43m.\u001b[39;49m\u001b[43mrecv\u001b[49m\u001b[43m(\u001b[49m\u001b[38;5;241;43m1024\u001b[39;49m\u001b[43m)\u001b[49m\n\u001b[0;32m     83\u001b[0m \u001b[38;5;28;01mreturn\u001b[39;00m \u001b[38;5;28mself\u001b[39m\u001b[38;5;241m.\u001b[39m_is_ack(data)\n",
      "\u001b[1;31mKeyboardInterrupt\u001b[0m: "
     ]
    }
   ],
   "source": [
    "while(1):\n",
    "    pos = read_pose()\n",
    "    if (pos < gripper._max_position - 30) and (pos > gripper._min_position + 30):\n",
    "        gripper.move(pos, 100, 10)\n",
    "        time.sleep(0.01)"
   ]
  },
  {
   "cell_type": "code",
   "execution_count": 22,
   "id": "f2a90b21",
   "metadata": {},
   "outputs": [
    {
     "data": {
      "text/plain": [
       "70"
      ]
     },
     "execution_count": 22,
     "metadata": {},
     "output_type": "execute_result"
    }
   ],
   "source": [
    "read_pose()"
   ]
  }
 ],
 "metadata": {
  "kernelspec": {
   "display_name": "Python 3",
   "language": "python",
   "name": "python3"
  },
  "language_info": {
   "codemirror_mode": {
    "name": "ipython",
    "version": 3
   },
   "file_extension": ".py",
   "mimetype": "text/x-python",
   "name": "python",
   "nbconvert_exporter": "python",
   "pygments_lexer": "ipython3",
   "version": "3.11.9"
  }
 },
 "nbformat": 4,
 "nbformat_minor": 5
}
